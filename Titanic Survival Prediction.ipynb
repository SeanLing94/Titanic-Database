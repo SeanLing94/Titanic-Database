{
 "cells": [
  {
   "cell_type": "markdown",
   "metadata": {},
   "source": [
    "The project focuses on predicting survival outcomes for passengers of the Titanic disaster through data analysis. This historical tragedy serves as a basis for understanding human behavior in critical situations. By employing machine learning techniques, the project aims to develop a predictive model that sheds light on factors influencing survival. The insights gained extend beyond history, finding application in modern transportation industries, enhancing safety protocols, evacuation strategies, and risk assessment. The successful implementation of this model could lead to improved passenger safety and operational optimization across various sectors.\n",
    "\n",
    "OSEMN framework will be adapted in the process of creating a machine learning model on the dataset."
   ]
  },
  {
   "cell_type": "code",
   "execution_count": 1,
   "metadata": {},
   "outputs": [],
   "source": [
    "# Importing the libraries\n",
    "# Linear Algebra\n",
    "import numpy as np\n",
    "\n",
    "# Data Preprosessing\n",
    "import pandas as pd\n",
    "\n",
    "# Data Visualization\n",
    "import seaborn as sns\n",
    "from matplotlib import pyplot as plt\n",
    "from matplotlib import style"
   ]
  },
  {
   "cell_type": "code",
   "execution_count": 2,
   "metadata": {},
   "outputs": [],
   "source": [
    "# Obtain the downloaded data from https://kaggle.com/c/titanic\n",
    "test_df = pd.read_csv(\"test.csv\")\n",
    "train_df = pd.read_csv(\"train.csv\")"
   ]
  },
  {
   "cell_type": "code",
   "execution_count": 3,
   "metadata": {},
   "outputs": [
    {
     "name": "stdout",
     "output_type": "stream",
     "text": [
      "   PassengerId  Survived  Pclass  \\\n",
      "0            1         0       3   \n",
      "1            2         1       1   \n",
      "2            3         1       3   \n",
      "3            4         1       1   \n",
      "4            5         0       3   \n",
      "5            6         0       3   \n",
      "6            7         0       1   \n",
      "7            8         0       3   \n",
      "8            9         1       3   \n",
      "9           10         1       2   \n",
      "\n",
      "                                                Name     Sex   Age  SibSp  \\\n",
      "0                            Braund, Mr. Owen Harris    male  22.0      1   \n",
      "1  Cumings, Mrs. John Bradley (Florence Briggs Th...  female  38.0      1   \n",
      "2                             Heikkinen, Miss. Laina  female  26.0      0   \n",
      "3       Futrelle, Mrs. Jacques Heath (Lily May Peel)  female  35.0      1   \n",
      "4                           Allen, Mr. William Henry    male  35.0      0   \n",
      "5                                   Moran, Mr. James    male   NaN      0   \n",
      "6                            McCarthy, Mr. Timothy J    male  54.0      0   \n",
      "7                     Palsson, Master. Gosta Leonard    male   2.0      3   \n",
      "8  Johnson, Mrs. Oscar W (Elisabeth Vilhelmina Berg)  female  27.0      0   \n",
      "9                Nasser, Mrs. Nicholas (Adele Achem)  female  14.0      1   \n",
      "\n",
      "   Parch            Ticket     Fare Cabin Embarked  \n",
      "0      0         A/5 21171   7.2500   NaN        S  \n",
      "1      0          PC 17599  71.2833   C85        C  \n",
      "2      0  STON/O2. 3101282   7.9250   NaN        S  \n",
      "3      0            113803  53.1000  C123        S  \n",
      "4      0            373450   8.0500   NaN        S  \n",
      "5      0            330877   8.4583   NaN        Q  \n",
      "6      0             17463  51.8625   E46        S  \n",
      "7      1            349909  21.0750   NaN        S  \n",
      "8      2            347742  11.1333   NaN        S  \n",
      "9      0            237736  30.0708   NaN        C  \n"
     ]
    }
   ],
   "source": [
    "# Preview the top 10 rows of the imported dataset\n",
    "print(train_df.head(10))"
   ]
  },
  {
   "cell_type": "code",
   "execution_count": 4,
   "metadata": {},
   "outputs": [
    {
     "name": "stdout",
     "output_type": "stream",
     "text": [
      "<class 'pandas.core.frame.DataFrame'>\n",
      "RangeIndex: 891 entries, 0 to 890\n",
      "Data columns (total 12 columns):\n",
      " #   Column       Non-Null Count  Dtype  \n",
      "---  ------       --------------  -----  \n",
      " 0   PassengerId  891 non-null    int64  \n",
      " 1   Survived     891 non-null    int64  \n",
      " 2   Pclass       891 non-null    int64  \n",
      " 3   Name         891 non-null    object \n",
      " 4   Sex          891 non-null    object \n",
      " 5   Age          714 non-null    float64\n",
      " 6   SibSp        891 non-null    int64  \n",
      " 7   Parch        891 non-null    int64  \n",
      " 8   Ticket       891 non-null    object \n",
      " 9   Fare         891 non-null    float64\n",
      " 10  Cabin        204 non-null    object \n",
      " 11  Embarked     889 non-null    object \n",
      "dtypes: float64(2), int64(5), object(5)\n",
      "memory usage: 83.7+ KB\n"
     ]
    }
   ],
   "source": [
    "# Dataframe's basic information\n",
    "train_df.info()"
   ]
  },
  {
   "cell_type": "code",
   "execution_count": 5,
   "metadata": {},
   "outputs": [
    {
     "data": {
      "text/html": [
       "<div>\n",
       "<style scoped>\n",
       "    .dataframe tbody tr th:only-of-type {\n",
       "        vertical-align: middle;\n",
       "    }\n",
       "\n",
       "    .dataframe tbody tr th {\n",
       "        vertical-align: top;\n",
       "    }\n",
       "\n",
       "    .dataframe thead th {\n",
       "        text-align: right;\n",
       "    }\n",
       "</style>\n",
       "<table border=\"1\" class=\"dataframe\">\n",
       "  <thead>\n",
       "    <tr style=\"text-align: right;\">\n",
       "      <th></th>\n",
       "      <th>PassengerId</th>\n",
       "      <th>Survived</th>\n",
       "      <th>Pclass</th>\n",
       "      <th>Age</th>\n",
       "      <th>SibSp</th>\n",
       "      <th>Parch</th>\n",
       "      <th>Fare</th>\n",
       "    </tr>\n",
       "  </thead>\n",
       "  <tbody>\n",
       "    <tr>\n",
       "      <th>count</th>\n",
       "      <td>891.000000</td>\n",
       "      <td>891.000000</td>\n",
       "      <td>891.000000</td>\n",
       "      <td>714.000000</td>\n",
       "      <td>891.000000</td>\n",
       "      <td>891.000000</td>\n",
       "      <td>891.000000</td>\n",
       "    </tr>\n",
       "    <tr>\n",
       "      <th>mean</th>\n",
       "      <td>446.000000</td>\n",
       "      <td>0.383838</td>\n",
       "      <td>2.308642</td>\n",
       "      <td>29.699118</td>\n",
       "      <td>0.523008</td>\n",
       "      <td>0.381594</td>\n",
       "      <td>32.204208</td>\n",
       "    </tr>\n",
       "    <tr>\n",
       "      <th>std</th>\n",
       "      <td>257.353842</td>\n",
       "      <td>0.486592</td>\n",
       "      <td>0.836071</td>\n",
       "      <td>14.526497</td>\n",
       "      <td>1.102743</td>\n",
       "      <td>0.806057</td>\n",
       "      <td>49.693429</td>\n",
       "    </tr>\n",
       "    <tr>\n",
       "      <th>min</th>\n",
       "      <td>1.000000</td>\n",
       "      <td>0.000000</td>\n",
       "      <td>1.000000</td>\n",
       "      <td>0.420000</td>\n",
       "      <td>0.000000</td>\n",
       "      <td>0.000000</td>\n",
       "      <td>0.000000</td>\n",
       "    </tr>\n",
       "    <tr>\n",
       "      <th>25%</th>\n",
       "      <td>223.500000</td>\n",
       "      <td>0.000000</td>\n",
       "      <td>2.000000</td>\n",
       "      <td>20.125000</td>\n",
       "      <td>0.000000</td>\n",
       "      <td>0.000000</td>\n",
       "      <td>7.910400</td>\n",
       "    </tr>\n",
       "    <tr>\n",
       "      <th>50%</th>\n",
       "      <td>446.000000</td>\n",
       "      <td>0.000000</td>\n",
       "      <td>3.000000</td>\n",
       "      <td>28.000000</td>\n",
       "      <td>0.000000</td>\n",
       "      <td>0.000000</td>\n",
       "      <td>14.454200</td>\n",
       "    </tr>\n",
       "    <tr>\n",
       "      <th>75%</th>\n",
       "      <td>668.500000</td>\n",
       "      <td>1.000000</td>\n",
       "      <td>3.000000</td>\n",
       "      <td>38.000000</td>\n",
       "      <td>1.000000</td>\n",
       "      <td>0.000000</td>\n",
       "      <td>31.000000</td>\n",
       "    </tr>\n",
       "    <tr>\n",
       "      <th>max</th>\n",
       "      <td>891.000000</td>\n",
       "      <td>1.000000</td>\n",
       "      <td>3.000000</td>\n",
       "      <td>80.000000</td>\n",
       "      <td>8.000000</td>\n",
       "      <td>6.000000</td>\n",
       "      <td>512.329200</td>\n",
       "    </tr>\n",
       "  </tbody>\n",
       "</table>\n",
       "</div>"
      ],
      "text/plain": [
       "       PassengerId    Survived      Pclass         Age       SibSp  \\\n",
       "count   891.000000  891.000000  891.000000  714.000000  891.000000   \n",
       "mean    446.000000    0.383838    2.308642   29.699118    0.523008   \n",
       "std     257.353842    0.486592    0.836071   14.526497    1.102743   \n",
       "min       1.000000    0.000000    1.000000    0.420000    0.000000   \n",
       "25%     223.500000    0.000000    2.000000   20.125000    0.000000   \n",
       "50%     446.000000    0.000000    3.000000   28.000000    0.000000   \n",
       "75%     668.500000    1.000000    3.000000   38.000000    1.000000   \n",
       "max     891.000000    1.000000    3.000000   80.000000    8.000000   \n",
       "\n",
       "            Parch        Fare  \n",
       "count  891.000000  891.000000  \n",
       "mean     0.381594   32.204208  \n",
       "std      0.806057   49.693429  \n",
       "min      0.000000    0.000000  \n",
       "25%      0.000000    7.910400  \n",
       "50%      0.000000   14.454200  \n",
       "75%      0.000000   31.000000  \n",
       "max      6.000000  512.329200  "
      ]
     },
     "execution_count": 5,
     "metadata": {},
     "output_type": "execute_result"
    }
   ],
   "source": [
    "# Dataframe's Summary Statistic\n",
    "train_df.describe()"
   ]
  },
  {
   "cell_type": "code",
   "execution_count": 6,
   "metadata": {},
   "outputs": [
    {
     "data": {
      "image/png": "[encoded data removed]",
      "text/plain": [
       "<Figure size 600x400 with 1 Axes>"
      ]
     },
     "metadata": {},
     "output_type": "display_data"
    }
   ],
   "source": [
    "# Features Correlational Estimations:\n",
    "# Pclass/Sex vs Survived\n",
    "plt.figure(figsize=(6, 4))\n",
    "sns.barplot(x='Pclass', y='Survived', hue='Sex', data=train_df)\n",
    "plt.title('Survival Rates by Pclass and Sex')\n",
    "plt.xlabel('Pclass')\n",
    "plt.ylabel('Survival Rate')\n",
    "plt.legend(title='Sex')\n",
    "plt.show()"
   ]
  },
  {
   "cell_type": "code",
   "execution_count": 7,
   "metadata": {},
   "outputs": [
    {
     "data": {
      "text/plain": [
       "Text(0.5, 0.98, 'Survival Rates by Embarked and Pclass')"
      ]
     },
     "execution_count": 7,
     "metadata": {},
     "output_type": "execute_result"
    },
    {
     "data": {
      "image/png": "[encoded data removed]",
      "text/plain": [
       "<Figure size 608.875x500 with 1 Axes>"
      ]
     },
     "metadata": {},
     "output_type": "display_data"
    }
   ],
   "source": [
    "# Embarked/Pclass vs Survived\n",
    "EmbarkedvsSurvived = sns.catplot(\n",
    "    data = train_df,\n",
    "    x = 'Embarked',\n",
    "    y = 'Survived',\n",
    "    hue = 'Pclass',\n",
    "    kind = 'bar',\n",
    "    aspect = 1.1\n",
    ")\n",
    "\n",
    "EmbarkedvsSurvived.set_axis_labels('Embarked', 'Survival Rate')\n",
    "EmbarkedvsSurvived.fig.suptitle('Survival Rates by Embarked and Pclass')"
   ]
  },
  {
   "cell_type": "code",
   "execution_count": 8,
   "metadata": {},
   "outputs": [
    {
     "data": {
      "image/png": "[encoded data removed]",
      "text/plain": [
       "<Figure size 1000x600 with 1 Axes>"
      ]
     },
     "metadata": {},
     "output_type": "display_data"
    }
   ],
   "source": [
    "# Define Age Groups for Visualization\n",
    "age_bins = [0, 10, 20, 30, 40, 50, 60, 70, 80]\n",
    "age_labels = ['0-10', '11-20', '21-30', '31-40', '41-50', '51-60', '61-70', '71-80']\n",
    "\n",
    "# Categorize passengers into the Age Groups\n",
    "train_df['AgeGroup'] = pd.cut(train_df['Age'], \n",
    "                              bins = age_bins,\n",
    "                              labels = age_labels,\n",
    "                              right = False)\n",
    "\n",
    "# Barplot for AgeGroup/Sex vs Survived\n",
    "plt.figure(figsize=(10, 6))\n",
    "sns.barplot(x = 'AgeGroup',\n",
    "            y = 'Survived',\n",
    "            hue = 'Sex',\n",
    "            data = train_df)\n",
    "plt.title('Survival Rates by Age Groups and Sex')\n",
    "plt.xlabel('Age Group')\n",
    "plt.ylabel('Survival Rate')\n",
    "plt.legend(title = 'Sex')\n",
    "plt.xticks(rotation = 35)\n",
    "plt.show()"
   ]
  },
  {
   "cell_type": "code",
   "execution_count": 9,
   "metadata": {},
   "outputs": [
    {
     "data": {
      "image/png": "[encoded data removed]",
      "text/plain": [
       "<Figure size 800x400 with 2 Axes>"
      ]
     },
     "metadata": {},
     "output_type": "display_data"
    }
   ],
   "source": [
    "SibSpParchSurvivalR = train_df.groupby(['SibSp', 'Parch']) ['Survived'].mean().unstack()\n",
    "\n",
    "# Heatmap for SibSp/Parch vs Survived\n",
    "plt.figure(figsize = (8, 4))\n",
    "sns.heatmap(SibSpParchSurvivalR, \n",
    "            annot = True,\n",
    "            cmap = 'YlGnBu',\n",
    "            fmt = '.2f')\n",
    "plt.title('Survival Rates by SibSp and Parch')\n",
    "plt.xlabel('Number of Parents/Children')\n",
    "plt.ylabel('Number of Siblings/Spouses')\n",
    "plt.show()"
   ]
  },
  {
   "cell_type": "code",
   "execution_count": 10,
   "metadata": {},
   "outputs": [
    {
     "data": {
      "image/png": "[encoded data removed]",
      "text/plain": [
       "<Figure size 800x400 with 1 Axes>"
      ]
     },
     "metadata": {},
     "output_type": "display_data"
    }
   ],
   "source": [
    "# Barchart to show the Fare/Pclass vs Survived\n",
    "plt.figure(figsize = (8, 4))\n",
    "sns.barplot(data = train_df,\n",
    "            x = 'Pclass',\n",
    "            y = 'Fare',\n",
    "            hue = 'Survived')\n",
    "plt.title('Average Fare by Pclass and Survival')\n",
    "plt.xlabel('Passenger Class (Pclass)')\n",
    "plt.legend(title = 'Survived')\n",
    "plt.show()"
   ]
  },
  {
   "cell_type": "code",
   "execution_count": 11,
   "metadata": {},
   "outputs": [
    {
     "name": "stdout",
     "output_type": "stream",
     "text": [
      "<class 'pandas.core.frame.DataFrame'>\n",
      "RangeIndex: 891 entries, 0 to 890\n",
      "Data columns (total 13 columns):\n",
      " #   Column       Non-Null Count  Dtype   \n",
      "---  ------       --------------  -----   \n",
      " 0   PassengerId  891 non-null    int64   \n",
      " 1   Survived     891 non-null    int64   \n",
      " 2   Pclass       891 non-null    int64   \n",
      " 3   Name         891 non-null    object  \n",
      " 4   Sex          891 non-null    object  \n",
      " 5   Age          714 non-null    float64 \n",
      " 6   SibSp        891 non-null    int64   \n",
      " 7   Parch        891 non-null    int64   \n",
      " 8   Ticket       891 non-null    object  \n",
      " 9   Fare         891 non-null    float64 \n",
      " 10  Cabin        204 non-null    object  \n",
      " 11  Embarked     889 non-null    object  \n",
      " 12  AgeGroup     713 non-null    category\n",
      "dtypes: category(1), float64(2), int64(5), object(5)\n",
      "memory usage: 84.9+ KB\n"
     ]
    }
   ],
   "source": [
    "# Preview the dataset again\n",
    "train_df.info()"
   ]
  },
  {
   "cell_type": "code",
   "execution_count": 12,
   "metadata": {},
   "outputs": [
    {
     "name": "stdout",
     "output_type": "stream",
     "text": [
      "0     7\n",
      "1    71\n",
      "2     7\n",
      "3    53\n",
      "4     8\n",
      "Name: Fare, dtype: int64\n"
     ]
    }
   ],
   "source": [
    "# Datatype Conversion : Fare\n",
    "data = [train_df, test_df]\n",
    "\n",
    "for dataset in data:\n",
    "    # Convert all missing value to '0'\n",
    "    dataset['Fare'] = dataset['Fare'].fillna(0)\n",
    "\n",
    "    # Convert all float.64 to int.64\n",
    "    dataset['Fare'] = dataset['Fare'].astype(int)\n",
    "\n",
    "# Previewing the first 5 rows of Fare\n",
    "print(train_df['Fare'].head(5))"
   ]
  },
  {
   "cell_type": "code",
   "execution_count": 13,
   "metadata": {},
   "outputs": [
    {
     "name": "stdout",
     "output_type": "stream",
     "text": [
      "0    1\n",
      "1    0\n",
      "2    0\n",
      "3    0\n",
      "4    1\n",
      "Name: Sex, dtype: int64\n"
     ]
    }
   ],
   "source": [
    "# Datatype conversion : Sex\n",
    "# Required library for data concersion\n",
    "from sklearn.preprocessing import LabelEncoder\n",
    "\n",
    "# Create a LabelEncoder Object\n",
    "label_encoder = LabelEncoder()\n",
    "\n",
    "# Fit and transform 'Sex' feature in both dataframes\n",
    "train_df['Sex'] = label_encoder.fit_transform(train_df['Sex'])\n",
    "test_df['Sex'] = label_encoder.transform(test_df['Sex'])\n",
    "\n",
    "# Previewing the first 5 rows of Sex\n",
    "print(train_df['Sex'].head(5))"
   ]
  },
  {
   "cell_type": "code",
   "execution_count": 14,
   "metadata": {},
   "outputs": [
    {
     "name": "stdout",
     "output_type": "stream",
     "text": [
      "0    0.0\n",
      "1    1.0\n",
      "2    0.0\n",
      "3    0.0\n",
      "4    0.0\n",
      "5    2.0\n",
      "6    0.0\n",
      "7    0.0\n",
      "8    0.0\n",
      "9    1.0\n",
      "Name: Embarked, dtype: float64\n"
     ]
    }
   ],
   "source": [
    "# Datatype conversion : Embarked\n",
    "# Dictionary for Embarked\n",
    "ports = {\"S\" : 0, \"C\" : 1, \"Q\" : 2}\n",
    "data = [train_df, test_df]\n",
    "\n",
    "for dataset in data:\n",
    "    # Assigning Embarked to their corresponding variables\n",
    "    dataset['Embarked'] = dataset['Embarked'].map(ports)\n",
    "\n",
    "# Previewing the first 10 rows of Embarked\n",
    "print(train_df['Embarked'].head(10))"
   ]
  },
  {
   "cell_type": "code",
   "execution_count": 15,
   "metadata": {},
   "outputs": [
    {
     "name": "stdout",
     "output_type": "stream",
     "text": [
      "<class 'pandas.core.frame.DataFrame'>\n",
      "RangeIndex: 891 entries, 0 to 890\n",
      "Data columns (total 13 columns):\n",
      " #   Column       Non-Null Count  Dtype   \n",
      "---  ------       --------------  -----   \n",
      " 0   PassengerId  891 non-null    int64   \n",
      " 1   Survived     891 non-null    int64   \n",
      " 2   Pclass       891 non-null    int64   \n",
      " 3   Name         891 non-null    object  \n",
      " 4   Sex          891 non-null    int64   \n",
      " 5   Age          714 non-null    float64 \n",
      " 6   SibSp        891 non-null    int64   \n",
      " 7   Parch        891 non-null    int64   \n",
      " 8   Ticket       891 non-null    object  \n",
      " 9   Fare         891 non-null    int64   \n",
      " 10  Cabin        204 non-null    object  \n",
      " 11  Embarked     889 non-null    float64 \n",
      " 12  AgeGroup     713 non-null    category\n",
      "dtypes: category(1), float64(2), int64(7), object(3)\n",
      "memory usage: 84.9+ KB\n"
     ]
    }
   ],
   "source": [
    "# Dataframe after the DataType Conversion\n",
    "train_df.info()"
   ]
  },
  {
   "cell_type": "code",
   "execution_count": 16,
   "metadata": {},
   "outputs": [],
   "source": [
    "# Featurs Dropping\n",
    "# Removal of Cabin from Train.csv and Test.csv\n",
    "train_df = train_df.drop(['Cabin'], axis = 1)\n",
    "test_df = test_df.drop(['Cabin'], axis = 1)"
   ]
  },
  {
   "cell_type": "code",
   "execution_count": 17,
   "metadata": {},
   "outputs": [],
   "source": [
    "# Removal of PassengerId from Train.csv and Test.csv\n",
    "train_df = train_df.drop(['PassengerId'], axis = 1)\n",
    "test_df = test_df.drop(['PassengerId'], axis = 1)"
   ]
  },
  {
   "cell_type": "code",
   "execution_count": 18,
   "metadata": {},
   "outputs": [],
   "source": [
    "# Removal of Ticket from Train.csv and Test.csv\n",
    "train_df = train_df.drop(['Ticket'], axis = 1)\n",
    "test_df = test_df.drop(['Ticket'], axis = 1)"
   ]
  },
  {
   "cell_type": "code",
   "execution_count": 19,
   "metadata": {},
   "outputs": [
    {
     "name": "stdout",
     "output_type": "stream",
     "text": [
      "<class 'pandas.core.frame.DataFrame'>\n",
      "RangeIndex: 891 entries, 0 to 890\n",
      "Data columns (total 10 columns):\n",
      " #   Column    Non-Null Count  Dtype   \n",
      "---  ------    --------------  -----   \n",
      " 0   Survived  891 non-null    int64   \n",
      " 1   Pclass    891 non-null    int64   \n",
      " 2   Name      891 non-null    object  \n",
      " 3   Sex       891 non-null    int64   \n",
      " 4   Age       714 non-null    float64 \n",
      " 5   SibSp     891 non-null    int64   \n",
      " 6   Parch     891 non-null    int64   \n",
      " 7   Fare      891 non-null    int64   \n",
      " 8   Embarked  889 non-null    float64 \n",
      " 9   AgeGroup  713 non-null    category\n",
      "dtypes: category(1), float64(2), int64(6), object(1)\n",
      "memory usage: 64.0+ KB\n"
     ]
    }
   ],
   "source": [
    "# DataFrame after the Features Dropping\n",
    "train_df.info()"
   ]
  },
  {
   "cell_type": "code",
   "execution_count": 20,
   "metadata": {},
   "outputs": [
    {
     "data": {
      "text/html": [
       "<div>\n",
       "<style scoped>\n",
       "    .dataframe tbody tr th:only-of-type {\n",
       "        vertical-align: middle;\n",
       "    }\n",
       "\n",
       "    .dataframe tbody tr th {\n",
       "        vertical-align: top;\n",
       "    }\n",
       "\n",
       "    .dataframe thead th {\n",
       "        text-align: right;\n",
       "    }\n",
       "</style>\n",
       "<table border=\"1\" class=\"dataframe\">\n",
       "  <thead>\n",
       "    <tr style=\"text-align: right;\">\n",
       "      <th></th>\n",
       "      <th>Total NaN Counts</th>\n",
       "      <th>Percentage %</th>\n",
       "    </tr>\n",
       "  </thead>\n",
       "  <tbody>\n",
       "    <tr>\n",
       "      <th>AgeGroup</th>\n",
       "      <td>178</td>\n",
       "      <td>20.0</td>\n",
       "    </tr>\n",
       "    <tr>\n",
       "      <th>Age</th>\n",
       "      <td>177</td>\n",
       "      <td>19.9</td>\n",
       "    </tr>\n",
       "    <tr>\n",
       "      <th>Embarked</th>\n",
       "      <td>2</td>\n",
       "      <td>0.2</td>\n",
       "    </tr>\n",
       "    <tr>\n",
       "      <th>Survived</th>\n",
       "      <td>0</td>\n",
       "      <td>0.0</td>\n",
       "    </tr>\n",
       "    <tr>\n",
       "      <th>Pclass</th>\n",
       "      <td>0</td>\n",
       "      <td>0.0</td>\n",
       "    </tr>\n",
       "  </tbody>\n",
       "</table>\n",
       "</div>"
      ],
      "text/plain": [
       "          Total NaN Counts  Percentage %\n",
       "AgeGroup               178          20.0\n",
       "Age                    177          19.9\n",
       "Embarked                 2           0.2\n",
       "Survived                 0           0.0\n",
       "Pclass                   0           0.0"
      ]
     },
     "execution_count": 20,
     "metadata": {},
     "output_type": "execute_result"
    }
   ],
   "source": [
    "# Summary of NaN value in the Dataset\n",
    "# Total Counts of the missing value in the Dataset\n",
    "total = train_df.isnull().sum().sort_values(ascending=False)\n",
    "percent_1 = train_df.isnull().sum()/train_df.isnull().count()*100\n",
    "\n",
    "# Percentage of the missing value in the dataset in descending order\n",
    "percent_2 = (round(percent_1, 1)).sort_values(ascending=False)\n",
    "\n",
    "# Creating a table to Concatenate both created Variables\n",
    "missing_data =  pd.concat([total, percent_2],\n",
    "                          axis = 1,\n",
    "                          keys = ['Total NaN Counts', 'Percentage %'])\n",
    "\n",
    "# Preview of the top 5 missing values in descending order\n",
    "missing_data.head(5)"
   ]
  },
  {
   "cell_type": "code",
   "execution_count": 21,
   "metadata": {},
   "outputs": [
    {
     "name": "stdout",
     "output_type": "stream",
     "text": [
      "Number of NaN values in 'Age' Column:  0\n"
     ]
    }
   ],
   "source": [
    "# Data Imputation\n",
    "data = [train_df, test_df]\n",
    "\n",
    "# Mean & Standard Deviation Imputation for Age\n",
    "for dataset in data:\n",
    "    mean = train_df['Age'].mean()\n",
    "    std = train_df['Age'].std()\n",
    "    is_null = dataset['Age'].isnull().sum()\n",
    "\n",
    "    # Assigning random integers to the NaN values in Age\n",
    "    rand_age = np.random.randint(mean - std, mean + std, \n",
    "                                 size = is_null)\n",
    "    age_slice = dataset['Age'].copy()\n",
    "    age_slice[np.isnan(age_slice)] = rand_age\n",
    "    dataset['Age'] = age_slice\n",
    "\n",
    "    # Convert Age into Integers\n",
    "    dataset['Age'] = train_df['Age'].astype(int)\n",
    "\n",
    "# Check if any remaining NaN value in 'Age' Feature\n",
    "print(\"Number of NaN values in 'Age' Column: \", train_df['Age'].isnull().sum())"
   ]
  },
  {
   "cell_type": "code",
   "execution_count": 22,
   "metadata": {},
   "outputs": [
    {
     "name": "stdout",
     "output_type": "stream",
     "text": [
      "Number of NaN values in 'AgeGroup' column: 0\n"
     ]
    }
   ],
   "source": [
    "# Re-Categorize passengers into the Age Groups\n",
    "age_bins = [0, 10, 20, 30, 40, 50, 60, 70, 80, 90]\n",
    "age_labels = ['0-10', '11-20', '21-30', '31-40', '41-50', '51-60', '61-70', '71-80', '81-90']\n",
    "\n",
    "# Re-assigning AgeGroup to all the new imputed Ages\n",
    "data = [train_df, test_df]\n",
    "for dataset in data:\n",
    "    dataset['AgeGroup'] = pd.cut(dataset['Age'], \n",
    "                                 bins = age_bins,\n",
    "                                 labels = age_labels,\n",
    "                                 right = False)\n",
    "    \n",
    "# Check if any remaining NaN value in 'AgeGroup' Feature\n",
    "print(\"Number of NaN values in 'AgeGroup' column:\", train_df['AgeGroup'].isnull().sum())"
   ]
  },
  {
   "cell_type": "code",
   "execution_count": 23,
   "metadata": {},
   "outputs": [
    {
     "data": {
      "text/plain": [
       "AgeGroup\n",
       "21-30    279\n",
       "31-40    238\n",
       "11-20    127\n",
       "41-50    111\n",
       "0-10      62\n",
       "51-60     48\n",
       "61-70     19\n",
       "71-80      6\n",
       "81-90      1\n",
       "Name: count, dtype: int64"
      ]
     },
     "execution_count": 23,
     "metadata": {},
     "output_type": "execute_result"
    }
   ],
   "source": [
    "# Display the AgeGroup in Category\n",
    "train_df['AgeGroup'].value_counts()"
   ]
  },
  {
   "cell_type": "code",
   "execution_count": 24,
   "metadata": {},
   "outputs": [
    {
     "data": {
      "text/plain": [
       "AgeGroup\n",
       "2    279\n",
       "3    238\n",
       "1    127\n",
       "4    111\n",
       "0     62\n",
       "5     48\n",
       "6     19\n",
       "7      6\n",
       "8      1\n",
       "Name: count, dtype: int64"
      ]
     },
     "execution_count": 24,
     "metadata": {},
     "output_type": "execute_result"
    }
   ],
   "source": [
    "# Converting the AgeGroup to Integer to represent the attribute to the column\n",
    "data = [train_df, test_df]\n",
    "for dataset in data:\n",
    "    dataset['AgeGroup'] = dataset['AgeGroup'].cat.codes\n",
    "\n",
    "# Previewing the new AgeGroup\n",
    "train_df['AgeGroup'].value_counts()"
   ]
  },
  {
   "cell_type": "code",
   "execution_count": 25,
   "metadata": {},
   "outputs": [
    {
     "data": {
      "text/plain": [
       "count    889.000000\n",
       "mean       0.362205\n",
       "std        0.636157\n",
       "min        0.000000\n",
       "25%        0.000000\n",
       "50%        0.000000\n",
       "75%        1.000000\n",
       "max        2.000000\n",
       "Name: Embarked, dtype: float64"
      ]
     },
     "execution_count": 25,
     "metadata": {},
     "output_type": "execute_result"
    }
   ],
   "source": [
    "# Mode Imputation for Embarked\n",
    "# Statistical Summary for Embarked to determine the Mode\n",
    "train_df['Embarked'].describe()"
   ]
  },
  {
   "cell_type": "code",
   "execution_count": 26,
   "metadata": {},
   "outputs": [
    {
     "name": "stdout",
     "output_type": "stream",
     "text": [
      "Number of NaN values in 'Embarked' column: 0\n"
     ]
    }
   ],
   "source": [
    "# Replacing '0' to the Missing value\n",
    "common_value = 0\n",
    "data = [train_df, test_df]\n",
    "for dataset in data:\n",
    "    dataset['Embarked'] = dataset['Embarked'].fillna(common_value)\n",
    "\n",
    "for dataset in data:\n",
    "    # Final conversion of DataType in Embarked to integers\n",
    "    dataset['Embarked'] = dataset['Embarked'].astype(int)\n",
    "\n",
    "# Check if any remaining NaN value in 'Embarked' Feature\n",
    "print(\"Number of NaN values in 'Embarked' column:\", train_df['Embarked'].isnull().sum())"
   ]
  },
  {
   "cell_type": "code",
   "execution_count": 27,
   "metadata": {},
   "outputs": [
    {
     "name": "stdout",
     "output_type": "stream",
     "text": [
      "<class 'pandas.core.frame.DataFrame'>\n",
      "RangeIndex: 891 entries, 0 to 890\n",
      "Data columns (total 10 columns):\n",
      " #   Column    Non-Null Count  Dtype \n",
      "---  ------    --------------  ----- \n",
      " 0   Survived  891 non-null    int64 \n",
      " 1   Pclass    891 non-null    int64 \n",
      " 2   Name      891 non-null    object\n",
      " 3   Sex       891 non-null    int64 \n",
      " 4   Age       891 non-null    int64 \n",
      " 5   SibSp     891 non-null    int64 \n",
      " 6   Parch     891 non-null    int64 \n",
      " 7   Fare      891 non-null    int64 \n",
      " 8   Embarked  891 non-null    int64 \n",
      " 9   AgeGroup  891 non-null    int8  \n",
      "dtypes: int64(8), int8(1), object(1)\n",
      "memory usage: 63.6+ KB\n"
     ]
    }
   ],
   "source": [
    "# DataFrame after the conversion\n",
    "train_df.info()"
   ]
  },
  {
   "cell_type": "code",
   "execution_count": 28,
   "metadata": {},
   "outputs": [
    {
     "data": {
      "text/plain": [
       "Title\n",
       "1.0    517\n",
       "2.0    185\n",
       "3.0    126\n",
       "4.0     40\n",
       "5.0     17\n",
       "0.0      6\n",
       "Name: count, dtype: int64"
      ]
     },
     "execution_count": 28,
     "metadata": {},
     "output_type": "execute_result"
    }
   ],
   "source": [
    "# Feature Engineering\n",
    "# Title\n",
    "# Dictionary for Names\n",
    "titles = {\"Mr\" : 1, \"Miss\" : 2, \"Mrs\" : 3, \"Master\" : 4, \"Rare\" : 5}\n",
    "data = [train_df, test_df]\n",
    "\n",
    "for dataset in data:\n",
    "    # Extract the first name as title\n",
    "    dataset['Title'] = dataset.Name.str.extract('([A-Za-z]+)\\.', expand = False)\n",
    "    \n",
    "    # Normalizing rare titles to 'Rare'\n",
    "    dataset['Title'] = dataset['Title'].replace(['Lady', 'Countess', 'Capt', 'Col', 'Don', 'Dr', 'Major', ' Rev',\n",
    "                                                 'Sir', 'Jonkheer', 'Dona'], 'Rare')\n",
    "     \n",
    "    # Replacing 'Mlle' with 'Miss'\n",
    "    dataset['Title'] = dataset['Title'].replace('Mlle', 'Miss')\n",
    "\n",
    "    # Replacing 'Ms' with 'Miss' \n",
    "    dataset['Title'] = dataset['Title'].replace('Ms', 'Miss')\n",
    "\n",
    "    # Replacing 'Mme' with 'Mrs'\n",
    "    dataset['Title'] = dataset['Title'].replace('Mme', 'Mrs')\n",
    "\n",
    "    # Replacing  Titles to Integers\n",
    "    dataset['Title'] = dataset['Title'].map(titles)\n",
    "\n",
    "    # Converting 'NaN' to '0' to show the distinction of empty value\n",
    "    dataset['Title'] = dataset['Title'].fillna(0) \n",
    "\n",
    "# Previewing of new feature : Title\n",
    "train_df['Title'].value_counts()"
   ]
  },
  {
   "cell_type": "code",
   "execution_count": 29,
   "metadata": {},
   "outputs": [],
   "source": [
    "# Dropping Name in the features\n",
    "train_df = train_df.drop(['Name'], axis = 1)\n",
    "test_df = test_df.drop(['Name'], axis = 1)"
   ]
  },
  {
   "cell_type": "code",
   "execution_count": 30,
   "metadata": {},
   "outputs": [
    {
     "data": {
      "text/plain": [
       "AgeGroup\n",
       "2    279\n",
       "3    238\n",
       "1    127\n",
       "4    111\n",
       "0     62\n",
       "5     48\n",
       "6     19\n",
       "7      6\n",
       "8      1\n",
       "Name: count, dtype: int64"
      ]
     },
     "execution_count": 30,
     "metadata": {},
     "output_type": "execute_result"
    }
   ],
   "source": [
    "# Feature Engineering : AgeGroup\n",
    "# Display the AgeGroup in Category\n",
    "train_df['AgeGroup'].value_counts()"
   ]
  },
  {
   "cell_type": "code",
   "execution_count": 31,
   "metadata": {},
   "outputs": [
    {
     "data": {
      "text/plain": [
       "Solo_Traveller\n",
       "1.0    537\n",
       "0.0    354\n",
       "Name: count, dtype: int64"
      ]
     },
     "execution_count": 31,
     "metadata": {},
     "output_type": "execute_result"
    }
   ],
   "source": [
    "# Feature Engineering : Solo_Traveller\n",
    "data = [train_df, test_df]\n",
    "for dataset in data:\n",
    "    # Combination of SibSp(No. of siblings/spouses) and Parch(No. of parents/children)\n",
    "    dataset['relatives'] = dataset['SibSp'] + dataset['Parch']\n",
    "    \n",
    "    # Not travel alone\n",
    "    dataset.loc[dataset['relatives'] > 0, 'Solo_Traveller'] = 0\n",
    "\n",
    "    # Travel alone\n",
    "    dataset.loc[dataset['relatives'] == 0, 'Solo_Traveller'] = 1\n",
    "\n",
    "    # Final conversion of new feature : Solo_Traveller\n",
    "    train_df['Solo_Traveller'].value_counts()\n",
    "\n",
    "# Preview of new feature : Solo_Traveller\n",
    "train_df['Solo_Traveller'].value_counts()"
   ]
  },
  {
   "cell_type": "code",
   "execution_count": 32,
   "metadata": {},
   "outputs": [
    {
     "name": "stdout",
     "output_type": "stream",
     "text": [
      "FareCategories\n",
      "(-0.001, 7.0]    241\n",
      "(7.0, 8.0]        70\n",
      "(8.0, 14.0]      146\n",
      "(14.0, 26.0]     165\n",
      "(26.0, 52.0]     123\n",
      "(52.0, 512.0]    146\n",
      "Name: count, dtype: int64\n"
     ]
    }
   ],
   "source": [
    "# Perform qcut on the 'Fare' Feature\n",
    "# New feature 'FareCategories' to categorize fare\n",
    "train_df['FareCategories'] = pd.qcut(train_df['Fare'], \n",
    "                                     q=6)\n",
    "\n",
    "# Display the 'FareCategories' in an ascending order\n",
    "fare_counts = train_df['FareCategories'].value_counts().sort_index()\n",
    "print(fare_counts)"
   ]
  },
  {
   "cell_type": "code",
   "execution_count": 33,
   "metadata": {},
   "outputs": [
    {
     "data": {
      "text/plain": [
       "Fare\n",
       "0    241\n",
       "3    165\n",
       "5    146\n",
       "4    123\n",
       "2    121\n",
       "1     95\n",
       "Name: count, dtype: int64"
      ]
     },
     "execution_count": 33,
     "metadata": {},
     "output_type": "execute_result"
    }
   ],
   "source": [
    "data = [train_df, test_df]\n",
    "\n",
    "# Categorizing the Fare according to FareCategories\n",
    "for dataset in data:\n",
    "    dataset.loc[dataset['Fare'] <= 7, 'Fare'] = 0\n",
    "    dataset.loc[(dataset['Fare'] > 7) & (dataset['Fare'] <= 9), 'Fare'] = 1\n",
    "    dataset.loc[(dataset['Fare'] > 8) & (dataset['Fare'] <= 14), 'Fare'] = 2\n",
    "    dataset.loc[(dataset['Fare'] > 14) & (dataset['Fare'] <= 26), 'Fare'] = 3\n",
    "    dataset.loc[(dataset['Fare'] > 26) & (dataset['Fare'] <= 52), 'Fare'] = 4\n",
    "    dataset.loc[dataset['Fare'] > 52, 'Fare'] = 5\n",
    "    dataset['Fare'] = dataset['Fare'].astype(int)\n",
    "\n",
    "# Preview of new 'Fare'\n",
    "train_df['Fare'].value_counts()"
   ]
  },
  {
   "cell_type": "code",
   "execution_count": 34,
   "metadata": {},
   "outputs": [],
   "source": [
    "# Dropping the 'FareCategories' \n",
    "train_df = train_df.drop(['FareCategories'], axis=1)"
   ]
  },
  {
   "cell_type": "code",
   "execution_count": 35,
   "metadata": {},
   "outputs": [],
   "source": [
    "data = [train_df, test_df]\n",
    "\n",
    "# Computing Individual Cost\n",
    "for dataset in data:\n",
    "    dataset['Individual_Cost'] = dataset['Fare'] / (dataset['relatives'] + 1 )\n",
    "\n",
    "    # Converting Individual Cost to Integers\n",
    "    dataset['Individual_Cost'] = dataset['Individual_Cost'].astype(int)"
   ]
  },
  {
   "cell_type": "code",
   "execution_count": 36,
   "metadata": {},
   "outputs": [
    {
     "name": "stdout",
     "output_type": "stream",
     "text": [
      "<class 'pandas.core.frame.DataFrame'>\n",
      "RangeIndex: 891 entries, 0 to 890\n",
      "Data columns (total 13 columns):\n",
      " #   Column           Non-Null Count  Dtype  \n",
      "---  ------           --------------  -----  \n",
      " 0   Survived         891 non-null    int64  \n",
      " 1   Pclass           891 non-null    int64  \n",
      " 2   Sex              891 non-null    int64  \n",
      " 3   Age              891 non-null    int64  \n",
      " 4   SibSp            891 non-null    int64  \n",
      " 5   Parch            891 non-null    int64  \n",
      " 6   Fare             891 non-null    int64  \n",
      " 7   Embarked         891 non-null    int64  \n",
      " 8   AgeGroup         891 non-null    int8   \n",
      " 9   Title            891 non-null    float64\n",
      " 10  relatives        891 non-null    int64  \n",
      " 11  Solo_Traveller   891 non-null    float64\n",
      " 12  Individual_Cost  891 non-null    int64  \n",
      "dtypes: float64(2), int64(10), int8(1)\n",
      "memory usage: 84.5 KB\n"
     ]
    }
   ],
   "source": [
    "# DataFrame after Feature Engineering\n",
    "train_df.info()"
   ]
  },
  {
   "cell_type": "code",
   "execution_count": 37,
   "metadata": {},
   "outputs": [],
   "source": [
    "# Dropping the Survived for X_train set\n",
    "X_train = train_df.drop('Survived', axis = 1)\n",
    "\n",
    "# Including the Survived for Y_train set\n",
    "Y_train = train_df['Survived']\n",
    "\n",
    "# Establishing the X_Test data\n",
    "X_test = test_df"
   ]
  },
  {
   "cell_type": "code",
   "execution_count": 38,
   "metadata": {},
   "outputs": [],
   "source": [
    "# Machine Learning Modeling\n",
    "# K-Nearest Neighbour\n",
    "# Importing Libraries\n",
    "from sklearn import linear_model\n",
    "from sklearn.neighbors import KNeighborsClassifier\n",
    "\n",
    "# K-Parameter = 3\n",
    "KNN = KNeighborsClassifier(n_neighbors = 3)\n",
    "KNN.fit(X_train, Y_train)\n",
    "\n",
    "# Applying on Test Set\n",
    "Y_pred = KNN.predict(X_test)\n",
    "\n",
    "# Accuracy of KNN computed\n",
    "acc_KNN = round(KNN.score(X_train, Y_train) * 100, 2)"
   ]
  },
  {
   "cell_type": "code",
   "execution_count": 39,
   "metadata": {},
   "outputs": [],
   "source": [
    "# Machine Learning Modeling\n",
    "# Logistic Regression\n",
    "# Importing Libraries\n",
    "from sklearn import linear_model\n",
    "from sklearn.linear_model import LogisticRegression\n",
    "\n",
    "# Increase the number of iterations to 1000 as Warning on the first round\n",
    "LR = LogisticRegression(max_iter=1000)\n",
    "LR.fit(X_train, Y_train)\n",
    "\n",
    "# Applying on test set\n",
    "Y_pred = LR.predict(X_test)\n",
    "\n",
    "# Accuracy of LR computed\n",
    "acc_LR = round(LR.score(X_train, Y_train) * 100, 2)"
   ]
  },
  {
   "cell_type": "code",
   "execution_count": 40,
   "metadata": {},
   "outputs": [],
   "source": [
    "# Machine Learning Modeling\n",
    "# Decision Tree\n",
    "# Importing Library\n",
    "from sklearn.tree import DecisionTreeClassifier\n",
    "\n",
    "DT = DecisionTreeClassifier()\n",
    "DT.fit(X_train, Y_train)\n",
    "\n",
    "# Applying on test set\n",
    "Y_pred = DT.predict(X_test)\n",
    "\n",
    "# Accuracy of DT computed\n",
    "acc_DT = round(DT.score(X_train, Y_train) * 100, 2)"
   ]
  },
  {
   "cell_type": "code",
   "execution_count": 41,
   "metadata": {},
   "outputs": [],
   "source": [
    "# Machine Learning Modeling\n",
    "# Random Forest\n",
    "# Importing Library\n",
    "from sklearn.ensemble import RandomForestClassifier\n",
    "\n",
    "# n = 100 decision trees to be used in the RF ensemble\n",
    "RF = RandomForestClassifier(n_estimators= 100)\n",
    "RF.fit(X_train, Y_train)\n",
    "\n",
    "# Applying on test set\n",
    "Y_prediction = RF.predict(X_test)\n",
    "\n",
    "# Accuracy of RF computed\n",
    "RF.score(X_train, Y_train)\n",
    "acc_RF = round(RF.score(X_train, Y_train) * 100, 2)"
   ]
  },
  {
   "cell_type": "code",
   "execution_count": 42,
   "metadata": {},
   "outputs": [],
   "source": [
    "# Machine Learning Modeling\n",
    "# Stochastic Gradient Descent (SGD)\n",
    "# Importing Library\n",
    "from sklearn import linear_model\n",
    "from sklearn.linear_model import SGDClassifier\n",
    "\n",
    "# Maximum number of iterations = 5 for optimization, algorithm will not stop when the consecutive iteration is smaller than 'to1'\n",
    "SGD = linear_model.SGDClassifier(max_iter=5, \n",
    "                                 tol = None)\n",
    "\n",
    "SGD.fit(X_train, Y_train)\n",
    "Y_pred = SGD.predict(X_test)\n",
    "\n",
    "#Accuracy of SGD computed\n",
    "SGD.score(X_train, Y_train)\n",
    "acc_SGD = round(SGD.score(X_train, Y_train) * 100, 2)"
   ]
  },
  {
   "cell_type": "code",
   "execution_count": 43,
   "metadata": {},
   "outputs": [],
   "source": [
    "# Machine Learning Modeling\n",
    "# Gaussian Naive Bayes\n",
    "# Importing Library\n",
    "from sklearn.naive_bayes import GaussianNB\n",
    "\n",
    "GNB = GaussianNB()\n",
    "GNB.fit(X_train, Y_train)\n",
    "\n",
    "# Applying on test set\n",
    "Y_pred = GNB.predict(X_test)\n",
    "\n",
    "# Accuracy of GNB computed\n",
    "acc_GNB = round(GNB.score(X_train, Y_train) * 100, 2)"
   ]
  },
  {
   "cell_type": "code",
   "execution_count": 44,
   "metadata": {},
   "outputs": [],
   "source": [
    "# Machine Learning Modeling\n",
    "# Percepthron\n",
    "# Importing Library\n",
    "from sklearn import linear_model\n",
    "from sklearn.linear_model import Perceptron\n",
    "\n",
    "# Max no of iterations = 100 for optimization\n",
    "PCT = Perceptron(max_iter= 100)\n",
    "PCT.fit(X_train, Y_train)\n",
    "\n",
    "# Applying on test set\n",
    "Y_pred = PCT.predict(X_test)\n",
    "\n",
    "#Accuracy of PCT computed\n",
    "acc_PCT = round(PCT.score(X_train, Y_train) * 100, 2)"
   ]
  },
  {
   "cell_type": "code",
   "execution_count": 45,
   "metadata": {},
   "outputs": [
    {
     "name": "stdout",
     "output_type": "stream",
     "text": [
      "                        Model  Score\n",
      "2               Decision Tree  95.51\n",
      "3               Random Forest  95.51\n",
      "0                         KNN  86.76\n",
      "1          LogisticRegression  81.93\n",
      "5                 Naive Bayes  78.34\n",
      "4  Stochastic Gradient Decent  77.44\n",
      "6                  Perceptron  66.55\n"
     ]
    }
   ],
   "source": [
    "# Model Evaluation\n",
    "# Accuracy\n",
    "results = pd.DataFrame({\n",
    "    # Computing the accuracy score into their respective Modelss\n",
    "    'Model' : ['KNN', 'LogisticRegression', 'Decision Tree', 'Random Forest', \n",
    "               'Stochastic Gradient Decent', 'Naive Bayes', ' Perceptron'],\n",
    "\n",
    "    'Score' : [acc_KNN, acc_LR, acc_DT, acc_RF, acc_SGD, acc_GNB, acc_PCT]\n",
    "})\n",
    "\n",
    "# Sorting the reuslt by their accuracy score descendingly \n",
    "result_df = results.sort_values(by = 'Score', ascending = False)\n",
    "print(result_df)"
   ]
  },
  {
   "cell_type": "code",
   "execution_count": 47,
   "metadata": {},
   "outputs": [
    {
     "name": "stdout",
     "output_type": "stream",
     "text": [
      "<class 'pandas.core.frame.DataFrame'>\n",
      "RangeIndex: 891 entries, 0 to 890\n",
      "Data columns (total 12 columns):\n",
      " #   Column           Non-Null Count  Dtype  \n",
      "---  ------           --------------  -----  \n",
      " 0   Pclass           891 non-null    int64  \n",
      " 1   Sex              891 non-null    int64  \n",
      " 2   Age              891 non-null    int64  \n",
      " 3   SibSp            891 non-null    int64  \n",
      " 4   Parch            891 non-null    int64  \n",
      " 5   Fare             891 non-null    int64  \n",
      " 6   Embarked         891 non-null    int64  \n",
      " 7   AgeGroup         891 non-null    int8   \n",
      " 8   Title            891 non-null    float64\n",
      " 9   relatives        891 non-null    int64  \n",
      " 10  Solo_Traveller   891 non-null    float64\n",
      " 11  Individual_Cost  891 non-null    int64  \n",
      "dtypes: float64(2), int64(9), int8(1)\n",
      "memory usage: 77.6 KB\n"
     ]
    }
   ],
   "source": [
    "X_train.info()"
   ]
  },
  {
   "cell_type": "code",
   "execution_count": 48,
   "metadata": {},
   "outputs": [
    {
     "name": "stdout",
     "output_type": "stream",
     "text": [
      "<class 'pandas.core.frame.DataFrame'>\n",
      "RangeIndex: 418 entries, 0 to 417\n",
      "Data columns (total 12 columns):\n",
      " #   Column           Non-Null Count  Dtype  \n",
      "---  ------           --------------  -----  \n",
      " 0   Pclass           418 non-null    int64  \n",
      " 1   Sex              418 non-null    int64  \n",
      " 2   Age              418 non-null    int64  \n",
      " 3   SibSp            418 non-null    int64  \n",
      " 4   Parch            418 non-null    int64  \n",
      " 5   Fare             418 non-null    int64  \n",
      " 6   Embarked         418 non-null    int64  \n",
      " 7   AgeGroup         418 non-null    int8   \n",
      " 8   Title            418 non-null    float64\n",
      " 9   relatives        418 non-null    int64  \n",
      " 10  Solo_Traveller   418 non-null    float64\n",
      " 11  Individual_Cost  418 non-null    int64  \n",
      "dtypes: float64(2), int64(9), int8(1)\n",
      "memory usage: 36.5 KB\n"
     ]
    }
   ],
   "source": [
    "X_test.info()"
   ]
  },
  {
   "cell_type": "code",
   "execution_count": 49,
   "metadata": {},
   "outputs": [],
   "source": [
    "# Dropping the 'Solo_Traveller' \n",
    "\n",
    "data = [X_train, X_test]\n",
    "\n",
    "for dataset in data:\n",
    "    dataset.drop(['Solo_Traveller', 'Parch', 'SibSp'], axis = 1, inplace = True),"
   ]
  },
  {
   "cell_type": "code",
   "execution_count": 50,
   "metadata": {},
   "outputs": [
    {
     "name": "stdout",
     "output_type": "stream",
     "text": [
      "<class 'pandas.core.frame.DataFrame'>\n",
      "RangeIndex: 891 entries, 0 to 890\n",
      "Data columns (total 9 columns):\n",
      " #   Column           Non-Null Count  Dtype  \n",
      "---  ------           --------------  -----  \n",
      " 0   Pclass           891 non-null    int64  \n",
      " 1   Sex              891 non-null    int64  \n",
      " 2   Age              891 non-null    int64  \n",
      " 3   Fare             891 non-null    int64  \n",
      " 4   Embarked         891 non-null    int64  \n",
      " 5   AgeGroup         891 non-null    int8   \n",
      " 6   Title            891 non-null    float64\n",
      " 7   relatives        891 non-null    int64  \n",
      " 8   Individual_Cost  891 non-null    int64  \n",
      "dtypes: float64(1), int64(7), int8(1)\n",
      "memory usage: 56.7 KB\n"
     ]
    }
   ],
   "source": [
    "X_train.info()"
   ]
  },
  {
   "cell_type": "code",
   "execution_count": 52,
   "metadata": {},
   "outputs": [
    {
     "name": "stdout",
     "output_type": "stream",
     "text": [
      "Old Accuracy Score = 95.51 %\n",
      "New Accuracy Score = 95.4 %\n",
      "OOB Score =  79.35 %\n"
     ]
    }
   ],
   "source": [
    "# Random Forest is re-trained to compare the accuracy score\n",
    "RF = RandomForestClassifier(n_estimators= 100,\n",
    "                            oob_score= True)\n",
    "RF.fit(X_train, Y_train)\n",
    "\n",
    "# Applying on test set\n",
    "Y_prediction = RF.predict(X_test)\n",
    "\n",
    "RF.score(X_train, Y_train)\n",
    "\n",
    "# Accuracy score is computed again\n",
    "acc_RF = round(RF.score(X_train, Y_train) * 100, 2)\n",
    "print('Old Accuracy Score = 95.51 %')\n",
    "print('New Accuracy Score =', round(acc_RF, 2,), \"%\")\n",
    "\n",
    "# OOB score computed\n",
    "print(\"OOB Score = \", round(RF.oob_score_, 4)*100, \"%\")"
   ]
  },
  {
   "cell_type": "code",
   "execution_count": 56,
   "metadata": {},
   "outputs": [
    {
     "name": "stdout",
     "output_type": "stream",
     "text": [
      "{'criterion': 'entropy', 'min_samples_leaf': 1, 'min_samples_split': 10, 'n_estimators': 1500}\n"
     ]
    }
   ],
   "source": [
    "# Hyperparameter Tuning\n",
    "# Parameter provided\n",
    "param_grid = {'criterion' : ['gini', 'entropy'],\n",
    "              'min_samples_leaf' : [1, 5, 10, 25, 50, 70],\n",
    "              'min_samples_split' : [2, 4, 10, 12, 16, 18, 25, 35],\n",
    "              'n_estimators' : [100, 400, 700, 1000, 1500]}\n",
    "\n",
    "# Importing Library for GridSearchcv\n",
    "from sklearn.model_selection import GridSearchCV\n",
    "from sklearn.ensemble import RandomForestClassifier\n",
    "\n",
    "RF = RandomForestClassifier(\n",
    "    n_estimators= 100,\n",
    "    max_features= 'sqrt',\n",
    "    oob_score= True,\n",
    "    random_state= 1,\n",
    "    n_jobs= -1\n",
    ")\n",
    "\n",
    "# Estimating the best parameters for Random Forest\n",
    "nRF = GridSearchCV(estimator=RF,\n",
    "                   param_grid=param_grid,\n",
    "                   n_jobs=-1)\n",
    "nRF.fit(X_train, Y_train)\n",
    "\n",
    "# Best hyperparameters for RF\n",
    "RFbest_params = nRF.best_params_\n",
    "print(RFbest_params)\n"
   ]
  },
  {
   "cell_type": "code",
   "execution_count": 58,
   "metadata": {},
   "outputs": [
    {
     "name": "stdout",
     "output_type": "stream",
     "text": [
      "Old Accuracy Score = 95.40 %\n",
      "New Accuracy Score = 89.11 %\n",
      "Old OOB Score = 79.35 %\n",
      "New OOB Score =  82.6 %\n"
     ]
    }
   ],
   "source": [
    "# Random Forest Classifier is fitting with New HyperParameters\n",
    "RF = RandomForestClassifier(criterion = 'entropy',\n",
    "                            min_samples_leaf= 1,\n",
    "                            min_samples_split= 10,\n",
    "                            n_estimators= 1500,\n",
    "                            max_features= 'sqrt',\n",
    "                            oob_score= True,\n",
    "                            random_state=1,\n",
    "                            n_jobs= -1)\n",
    "\n",
    "# Re-train the model\n",
    "RF.fit(X_train, Y_train)\n",
    "Y_prediction = RF.predict(X_test)\n",
    "\n",
    "RF.score(X_train, Y_train)\n",
    "\n",
    "# Accuracy Score is computed again\n",
    "acc_RF = round(RF.score(X_train, Y_train)* 100, 2)\n",
    "print('Old Accuracy Score = 95.40 %')\n",
    "print('New Accuracy Score =', round(acc_RF, 2,), \"%\")\n",
    "\n",
    "print('Old OOB Score = 79.35 %')\n",
    "print(\"New OOB Score = \", round(RF.oob_score_, 4)*100, \"%\")"
   ]
  },
  {
   "cell_type": "code",
   "execution_count": 59,
   "metadata": {},
   "outputs": [
    {
     "data": {
      "text/plain": [
       "array([[484,  65],\n",
       "       [ 96, 246]])"
      ]
     },
     "execution_count": 59,
     "metadata": {},
     "output_type": "execute_result"
    }
   ],
   "source": [
    "# Importing Library for Confusion Matrix\n",
    "from sklearn.model_selection import cross_val_predict\n",
    "from sklearn.metrics import confusion_matrix\n",
    "\n",
    "predictions = cross_val_predict(RF, X_train, Y_train, cv= 3)\n",
    "\n",
    "# Confusion Matrix Model Evaluation\n",
    "confusion_matrix(Y_train, predictions)"
   ]
  },
  {
   "cell_type": "code",
   "execution_count": 61,
   "metadata": {},
   "outputs": [
    {
     "name": "stdout",
     "output_type": "stream",
     "text": [
      "Accuracy: 0.819304152637486\n"
     ]
    }
   ],
   "source": [
    "# Importing Library for Accuracy\n",
    "from sklearn.metrics import accuracy_score\n",
    "\n",
    "# Computing Accuracy Score\n",
    "print(\"Accuracy:\", accuracy_score(Y_train, predictions))"
   ]
  },
  {
   "cell_type": "code",
   "execution_count": 62,
   "metadata": {},
   "outputs": [
    {
     "name": "stdout",
     "output_type": "stream",
     "text": [
      "Precision: 0.7909967845659164\n"
     ]
    }
   ],
   "source": [
    "# Importing Library for Precision\n",
    "from sklearn.metrics import precision_score\n",
    "\n",
    "# Computing Precision Score\n",
    "print(\"Precision:\", precision_score(Y_train, predictions))"
   ]
  },
  {
   "cell_type": "code",
   "execution_count": 64,
   "metadata": {},
   "outputs": [
    {
     "name": "stdout",
     "output_type": "stream",
     "text": [
      "Recall: 0.7192982456140351\n"
     ]
    }
   ],
   "source": [
    "# Importing Library for Recall\n",
    "from sklearn.metrics import recall_score\n",
    "\n",
    "# Computing Recall Score\n",
    "print(\"Recall:\", recall_score(Y_train, predictions))"
   ]
  },
  {
   "cell_type": "code",
   "execution_count": 65,
   "metadata": {},
   "outputs": [
    {
     "name": "stdout",
     "output_type": "stream",
     "text": [
      "F1 Score: 0.7534456355283307\n"
     ]
    }
   ],
   "source": [
    "# Importing Library for F1_Score\n",
    "from sklearn.metrics import f1_score\n",
    "\n",
    "# Computing F1 Score\n",
    "print(\"F1 Score:\", f1_score(Y_train, predictions))"
   ]
  }
 ],
 "metadata": {
  "kernelspec": {
   "display_name": "Python 3",
   "language": "python",
   "name": "python3"
  },
  "language_info": {
   "codemirror_mode": {
    "name": "ipython",
    "version": 3
   },
   "file_extension": ".py",
   "mimetype": "text/x-python",
   "name": "python",
   "nbconvert_exporter": "python",
   "pygments_lexer": "ipython3",
   "version": "3.10.8"
  }
 },
 "nbformat": 4,
 "nbformat_minor": 2
}
